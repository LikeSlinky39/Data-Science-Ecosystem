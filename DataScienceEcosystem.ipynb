{
 "cells": [
  {
   "cell_type": "markdown",
   "id": "e69ae9d7",
   "metadata": {},
   "source": [
    "# Data Science Tools and Ecosystem"
   ]
  },
  {
   "cell_type": "markdown",
   "id": "fa99e31b",
   "metadata": {},
   "source": [
    "This notebook contains information about all of the data science related tools."
   ]
  },
  {
   "cell_type": "markdown",
   "id": "62559f38",
   "metadata": {},
   "source": [
    "Lets see some of the most commonly used languages among datascientists:"
   ]
  },
  {
   "cell_type": "markdown",
   "id": "0caedab8",
   "metadata": {},
   "source": [
    "1. Python\n",
    "2. R\n",
    "3. Java\n",
    "4. C++\n",
    "5. Scala\n",
    "6. Julia"
   ]
  },
  {
   "cell_type": "markdown",
   "id": "5f957c60",
   "metadata": {},
   "source": [
    "Now, lets see some of the most commonly used libraries among datascientists:"
   ]
  },
  {
   "cell_type": "markdown",
   "id": "5abd1f12",
   "metadata": {},
   "source": [
    "1. Pandas\n",
    "2. Numpy\n",
    "3. Scipy\n",
    "4. Matplotlib\n",
    "5. Scikitlearn"
   ]
  },
  {
   "cell_type": "markdown",
   "id": "a0912401",
   "metadata": {},
   "source": [
    "Below is a small table representing some most common development environments for data science:\n",
    "    \n",
    "||Data Science Tools||\n",
    "|---|---|---|\n",
    "|Jupyter Notebook|R studio|Spyder|"
   ]
  },
  {
   "cell_type": "markdown",
   "id": "9316a974",
   "metadata": {},
   "source": [
    "###### Below are a few examples of evaluating arithmetic expressions in Python"
   ]
  },
  {
   "cell_type": "code",
   "execution_count": 7,
   "id": "a6f687ec",
   "metadata": {},
   "outputs": [
    {
     "data": {
      "text/plain": [
       "17"
      ]
     },
     "execution_count": 7,
     "metadata": {},
     "output_type": "execute_result"
    }
   ],
   "source": [
    "# Just a basic arithmetic expression to give an output.\n",
    "(3*4)+5"
   ]
  },
  {
   "cell_type": "code",
   "execution_count": 11,
   "id": "1244175b",
   "metadata": {},
   "outputs": [
    {
     "name": "stdout",
     "output_type": "stream",
     "text": [
      "3.3333333333333335\n"
     ]
    }
   ],
   "source": [
    "minutes = 200\n",
    "hours = minutes/60        # This expression coverts minutes to hours dividing it by 60.\n",
    "print(hours)"
   ]
  },
  {
   "cell_type": "markdown",
   "id": "ce8810f7",
   "metadata": {},
   "source": [
    "**Objectives:**"
   ]
  },
  {
   "cell_type": "markdown",
   "id": "afc6b505",
   "metadata": {},
   "source": [
    "* Commonly used languages in data science\n",
    "* Commonly used libraries in data science\n",
    "* Some commonly used data science tools\n",
    "* Some commonly used development environments in data science"
   ]
  },
  {
   "cell_type": "markdown",
   "id": "d242714f",
   "metadata": {},
   "source": [
    "## Author"
   ]
  },
  {
   "cell_type": "markdown",
   "id": "abd69cbc",
   "metadata": {},
   "source": [
    "Akshat Sharma"
   ]
  },
  {
   "cell_type": "code",
   "execution_count": null,
   "id": "11c91464",
   "metadata": {},
   "outputs": [],
   "source": []
  }
 ],
 "metadata": {
  "kernelspec": {
   "display_name": "Python 3 (ipykernel)",
   "language": "python",
   "name": "python3"
  },
  "language_info": {
   "codemirror_mode": {
    "name": "ipython",
    "version": 3
   },
   "file_extension": ".py",
   "mimetype": "text/x-python",
   "name": "python",
   "nbconvert_exporter": "python",
   "pygments_lexer": "ipython3",
   "version": "3.9.13"
  }
 },
 "nbformat": 4,
 "nbformat_minor": 5
}
